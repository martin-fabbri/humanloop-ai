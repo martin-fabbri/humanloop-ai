{
 "cells": [
  {
   "cell_type": "code",
   "execution_count": 1,
   "id": "89aef5b4",
   "metadata": {},
   "outputs": [
    {
     "data": {
      "text/plain": [
       "True"
      ]
     },
     "execution_count": 1,
     "metadata": {},
     "output_type": "execute_result"
    }
   ],
   "source": [
    "from dotenv import load_dotenv\n",
    "load_dotenv(\"../.env\", override=True)"
   ]
  },
  {
   "cell_type": "code",
   "execution_count": 2,
   "id": "5d6a4d90",
   "metadata": {},
   "outputs": [],
   "source": [
    "from langchain_google_genai import ChatGoogleGenerativeAI\n",
    "\n",
    "llm = ChatGoogleGenerativeAI(model=\"gemini-2.5-flash\", temperature=0)"
   ]
  },
  {
   "cell_type": "code",
   "execution_count": 3,
   "id": "00e2961a",
   "metadata": {},
   "outputs": [
    {
     "data": {
      "text/plain": [
       "'The capital of France is Paris.'"
      ]
     },
     "execution_count": 3,
     "metadata": {},
     "output_type": "execute_result"
    }
   ],
   "source": [
    "llm.invoke(\"What is the capital of France?\").content"
   ]
  },
  {
   "cell_type": "code",
   "execution_count": 4,
   "id": "36dd0e5c",
   "metadata": {},
   "outputs": [
    {
     "data": {
      "text/plain": [
       "('Calcium CT score high cholesterol relationship',\n",
       " 'The user is asking about the relationship between Calcium CT score and high cholesterol, which requires a web search to provide an accurate answer about medical correlations and risk factors. ')"
      ]
     },
     "execution_count": 4,
     "metadata": {},
     "output_type": "execute_result"
    }
   ],
   "source": [
    "from pydantic import BaseModel, Field\n",
    "\n",
    "class SearchQuery(BaseModel):\n",
    "    search_query: str = Field(\n",
    "        None, description=\"Query that is optimized to search the web.\"\n",
    "    )\n",
    "    justification: str = Field(\n",
    "        None, description=\"Why this query is relevant to the user's request.\"\n",
    "    )\n",
    "\n",
    "structured_llm = llm.with_structured_output(SearchQuery)\n",
    "output = structured_llm.invoke(\n",
    "    \"How does Calcium CT score relate to high cholesterol?\"\n",
    ")\n",
    "output.search_query, output.justification"
   ]
  },
  {
   "cell_type": "code",
   "execution_count": 5,
   "id": "2c13f6af",
   "metadata": {},
   "outputs": [
    {
     "data": {
      "text/plain": [
       "('multiply', {'a': 2.0, 'b': 3.0})"
      ]
     },
     "execution_count": 5,
     "metadata": {},
     "output_type": "execute_result"
    }
   ],
   "source": [
    "def multiply(a: int, b: int) -> int:\n",
    "    \"\"\"Multiplies two numbers.\"\"\"\n",
    "    return a * b\n",
    "\n",
    "llm_with_tools = llm.bind_tools([multiply])\n",
    "\n",
    "msg = llm_with_tools.invoke(\"What is 2 times 3?\")\n",
    "\n",
    "msg.tool_calls[0][\"name\"], msg.tool_calls[0][\"args\"]"
   ]
  },
  {
   "cell_type": "code",
   "execution_count": 6,
   "id": "465897fa",
   "metadata": {},
   "outputs": [],
   "source": [
    "from typing_extensions import TypedDict\n",
    "from langgraph.graph import StateGraph, START, END\n",
    "from IPython.display import Image, display\n",
    "\n",
    "class State(TypedDict):\n",
    "    topic: str\n",
    "    joke: str\n",
    "    improved_joke: str\n",
    "    final_joke: str\n",
    "\n",
    "def generate_joke(state: State):\n",
    "    \"\"\"First LLM call to generate initial joke\"\"\"\n",
    "    msg = llm.invoke(f\"Write a short joke about {state['topic']}\")\n",
    "    return {\"joke\": msg.content}\n",
    "\n",
    "def check_pounchline(state: State):\n",
    "    \"\"\"Gate function to check if the joke has a punchline\"\"\"\n",
    "    if \"?\" in state[\"joke\"] or \"!\" in state[\"joke\"]:\n",
    "        return \"Pass\"\n",
    "    return \"Fail\"\n",
    "\n",
    "def improve_joke(state: State):\n",
    "    \"\"\"Second LLM call to improve the joke\"\"\"\n",
    "    msg = llm.invoke(\n",
    "        f\"Make this joke funnier by adding wordplay: {state['joke']}\"\n",
    "    )\n",
    "    return {\"improved_joke\": msg.content}\n",
    "\n",
    "def polish_joke(state: State):\n",
    "    \"\"\"Third LLM call to final Polish the joke\"\"\"\n",
    "    msg = llm.invoke(\n",
    "        f\"Add a surprising twist to this joke: {state['improved_joke']}\"\n",
    "    )\n",
    "    return {\"final_joke\": msg.content}"
   ]
  },
  {
   "cell_type": "code",
   "execution_count": 8,
   "id": "5deac41d",
   "metadata": {},
   "outputs": [],
   "source": [
    "workflow = StateGraph(State)\n",
    "\n",
    "workflow.add_node(\"generate_joke\", generate_joke)\n",
    "workflow.add_node(\"improve_joke\", improve_joke)\n",
    "workflow.add_node(\"polish_joke\", polish_joke)\n",
    "\n",
    "workflow.add_edge(START, \"generate_joke\")\n",
    "workflow.add_conditional_edges(\n",
    "    \"generate_joke\", \n",
    "    check_pounchline,\n",
    "    {\"Fail\": \"improve_joke\", \"Pass\": END} \n",
    ")\n",
    "workflow.add_edge(\"improve_joke\", \"polish_joke\")\n",
    "workflow.add_edge(\"polish_joke\", END)\n",
    "\n",
    "chain = workflow.compile()\n"
   ]
  },
  {
   "cell_type": "code",
   "execution_count": 9,
   "id": "cc2ae008",
   "metadata": {},
   "outputs": [
    {
     "data": {
      "image/png": "[encoded data removed]",
      "text/plain": [
       "<IPython.core.display.Image object>"
      ]
     },
     "metadata": {},
     "output_type": "display_data"
    }
   ],
   "source": [
    "display(Image(chain.get_graph().draw_mermaid_png()))"
   ]
  },
  {
   "cell_type": "code",
   "execution_count": 14,
   "id": "cc3786d6",
   "metadata": {},
   "outputs": [],
   "source": [
    "state = chain.invoke({\"topic\": \"cats\"})"
   ]
  },
  {
   "cell_type": "code",
   "execution_count": 15,
   "id": "66165aa3",
   "metadata": {},
   "outputs": [
    {
     "name": "stdout",
     "output_type": "stream",
     "text": [
      "Initial joke:\n",
      "Why did the cat sit on the computer?\n",
      "\n",
      "Because it wanted to keep an eye on the mouse!\n",
      "\n",
      "--- --- ---\n",
      "\n",
      "Joke failed quality gate - no punchline detected!\n"
     ]
    }
   ],
   "source": [
    "print(\"Initial joke:\")\n",
    "print(state[\"joke\"])\n",
    "print(\"\\n--- --- ---\\n\")\n",
    "if \"improved_joke\" in state:\n",
    "    print(\"Improved joke:\")\n",
    "    print(state[\"improved_joke\"])\n",
    "    print(\"\\n--- --- ---\\n\")\n",
    "\n",
    "    print(\"Final joke:\")\n",
    "    print(state[\"final_joke\"])\n",
    "else:\n",
    "    print(\"Joke failed quality gate - no punchline detected!\")"
   ]
  },
  {
   "cell_type": "code",
   "execution_count": 16,
   "id": "ef7fd083",
   "metadata": {},
   "outputs": [],
   "source": [
    "class State(TypedDict):\n",
    "    topic: str\n",
    "    joke: str\n",
    "    story: str\n",
    "    poem: str\n",
    "    combined_output: str"
   ]
  },
  {
   "cell_type": "code",
   "execution_count": 17,
   "id": "2d99e89c",
   "metadata": {},
   "outputs": [],
   "source": [
    "def call_llm_1(state: State):\n",
    "    \"\"\"First LLM call to generate initial joke\"\"\"\n",
    "    msg = llm.invoke(f\"Write a short joke about {state['topic']}\")\n",
    "    return {\"joke\": msg.content}"
   ]
  },
  {
   "cell_type": "code",
   "execution_count": 18,
   "id": "43ef30a6",
   "metadata": {},
   "outputs": [],
   "source": [
    "def call_llm_2(state: State):\n",
    "    \"\"\"Second LLM call to generate a short story\"\"\"\n",
    "    msg = llm.invoke(f\"Write a short story about {state['topic']}\")\n",
    "    return {\"story\": msg.content}"
   ]
  },
  {
   "cell_type": "code",
   "execution_count": 19,
   "id": "b1c3c495",
   "metadata": {},
   "outputs": [],
   "source": [
    "def call_llm_3(state: State):\n",
    "    \"\"\"Third LLM call to generate a short poem\"\"\"\n",
    "    msg = llm.invoke(f\"Write a short poem about {state['topic']}\")\n",
    "    return {\"poem\": msg.content}"
   ]
  },
  {
   "cell_type": "code",
   "execution_count": 20,
   "id": "17857d4f",
   "metadata": {},
   "outputs": [],
   "source": [
    "def aggregator(state: State):\n",
    "    \"\"\"Combine the joke and story into a single output\"\"\"\n",
    "    combined_output = (\n",
    "        f\"Here's a story, joke and poem about {state['topic']}:\\n\"\n",
    "        f\"Joke: {state['joke']}\\n\"\n",
    "        f\"Story: {state['story']}\\n\"\n",
    "        f\"Poem: {state['poem']}\"\n",
    "    )\n",
    "    return {\"combined_output\": combined_output}"
   ]
  },
  {
   "cell_type": "code",
   "execution_count": 22,
   "id": "61965d22",
   "metadata": {},
   "outputs": [],
   "source": [
    "parallel_builder = StateGraph(State)\n",
    "\n",
    "parallel_builder.add_node(\"call_llm_1\", call_llm_1)\n",
    "parallel_builder.add_node(\"call_llm_2\", call_llm_2)\n",
    "parallel_builder.add_node(\"call_llm_3\", call_llm_3)\n",
    "parallel_builder.add_node(\"aggregator\", aggregator)\n",
    "\n",
    "parallel_builder.add_edge(START, \"call_llm_1\")\n",
    "parallel_builder.add_edge(START, \"call_llm_2\")\n",
    "parallel_builder.add_edge(START, \"call_llm_3\")\n",
    "parallel_builder.add_edge(\"call_llm_1\", \"aggregator\")\n",
    "parallel_builder.add_edge(\"call_llm_2\", \"aggregator\")\n",
    "parallel_builder.add_edge(\"call_llm_3\", \"aggregator\")\n",
    "parallel_builder.add_edge(\"aggregator\", END)\n",
    "\n",
    "parallel_workflow = parallel_builder.compile()"
   ]
  },
  {
   "cell_type": "code",
   "execution_count": 23,
   "id": "8105adde",
   "metadata": {},
   "outputs": [
    {
     "data": {
      "image/png": "[encoded data removed]",
      "text/plain": [
       "<IPython.core.display.Image object>"
      ]
     },
     "metadata": {},
     "output_type": "display_data"
    }
   ],
   "source": [
    "display(Image(parallel_workflow.get_graph().draw_mermaid_png()))"
   ]
  },
  {
   "cell_type": "code",
   "execution_count": 25,
   "id": "cd896237",
   "metadata": {},
   "outputs": [
    {
     "name": "stdout",
     "output_type": "stream",
     "text": [
      "Here's a story, joke and poem about cats:\n",
      "Joke: Why did the cat sit on the computer?\n",
      "\n",
      "Because it wanted to keep an eye on the mouse!\n",
      "Story: Jasper, a magnificent marmalade ginger, was a creature of profound contentment. His current state involved a perfect rectangle of sunlight on the living room rug, into which he had melted like a furry, warm puddle. A slow, rhythmic purr vibrated through his substantial chest, a testament to the warmth soaking into his fur and the utter lack of immediate threats. His tail, a fluffy question mark, twitched occasionally, perhaps dreaming of chasing dust motes.\n",
      "\n",
      "Then came Luna.\n",
      "\n",
      "A sleek, midnight-black blur, Luna was the antithesis of Jasper’s languid grace. She didn't walk; she *prowled*, a low-slung hunter with twitching whiskers and boundless energy. Her eyes, emerald chips, scanned the room for any sign of mischief, any opportunity for a chase.\n",
      "\n",
      "Today, the opportunity presented itself in the form of a particularly brave (or foolish) fly buzzing near the window.\n",
      "\n",
      "Luna froze, a statue of coiled potential. Her tail, thin and whip-like, began a rapid, almost imperceptible tremor. Her hindquarters wiggled, a pre-pounce ritual. With a sudden, explosive burst, she launched herself at the window, a black streak against the light. Her paws scrabbled at the glass, tiny claws extended, as the fly, startled, zipped away.\n",
      "\n",
      "Jasper, roused from his sun-drenched reverie by the commotion, opened one golden eye. He watched Luna’s frantic, frustrated leaps with an air of detached amusement. When she finally gave up, landing with a soft thud and shaking her head in disgust, he offered a slow, deliberate blink – the feline equivalent of a knowing chuckle.\n",
      "\n",
      "Luna, sensing his judgment, glared. Then, spotting a stray crinkly ball under the sofa, her attention immediately diverted. She batted it out with a swift paw, sending it skittering across the polished floor. The chase was on.\n",
      "\n",
      "The crinkly ball became a ferocious prey. Luna pounced, rolled, and bunny-kicked it with a ferocity usually reserved for actual mice. She tossed it in the air, caught it, and then, with a final, triumphant pounce, pinned it.\n",
      "\n",
      "Jasper, surprisingly, stirred. He stretched, a long, luxurious arch of his back, extending his front paws with claws sheathed. He ambled over, his purr now a low rumble, and nudged the crinkly ball with his nose. Luna, still panting slightly, looked up.\n",
      "\n",
      "With a dignified swat, Jasper sent the ball rolling towards her. Luna, momentarily surprised, then sprang into action, chasing it back. For a few minutes, the living room became their arena. Jasper, with surprising bursts of agility, would bat the ball with a paw, sending it just out of Luna’s reach, only for her to dart and retrieve it with lightning speed.\n",
      "\n",
      "Eventually, the game wound down. The crinkly ball lay forgotten. Luna, tired but content, began to meticulously groom a paw. Jasper, having exerted himself more than usual, found a new patch of sun, this one slightly smaller, and settled down.\n",
      "\n",
      "Luna, after a thorough wash, padded over. She circled Jasper once, then, with a soft sigh, curled up beside him, her sleek black fur a stark contrast to his fluffy ginger. Jasper, without opening his eyes, extended a paw and gently rested it over her back.\n",
      "\n",
      "The house settled into a comfortable hum, punctuated only by the soft purrs of two very different cats, bound by the quiet rhythm of their shared lives, and the occasional, thrilling pursuit of a crinkly ball. Just two cats, living their best, most perfectly cat-like lives.\n",
      "Poem: A shadow soft, a silent grace,\n",
      "They find the sun, a cozy place.\n",
      "With purring hum, a gentle sound,\n",
      "The best of friends, all curled around.\n",
      "They leap and pounce, then nap and dream,\n",
      "A perfect, furry, feline gleam.\n"
     ]
    }
   ],
   "source": [
    "state = parallel_workflow.invoke({\"topic\": \"cats\"})\n",
    "print(state[\"combined_output\"])"
   ]
  },
  {
   "cell_type": "code",
   "execution_count": null,
   "id": "31815390",
   "metadata": {},
   "outputs": [],
   "source": [
    "from typing_extensions import Literal\n",
    "from langchain_core.messages import HumanMessage, SystemMessage\n",
    "\n",
    "class Route(BaseModel):\n",
    "    step: Literal[\"poem\", \"story\", \"joke\"] = Field(\n",
    "        None, description=\"The next step in the routing process.\"\n",
    "    )\n",
    "\n",
    "router = llm.with_structured_output(Route)\n"
   ]
  },
  {
   "cell_type": "code",
   "execution_count": 29,
   "id": "f676a532",
   "metadata": {},
   "outputs": [],
   "source": [
    "class State(TypedDict):\n",
    "    input: str\n",
    "    decision: str\n",
    "    output: str\n",
    "\n",
    "def llm_call_1(state: State):\n",
    "    \"\"\"Write a story\"\"\"\n",
    "    result = llm.invoke(state[\"input\"])\n",
    "    return {\"output\": result.content}\n",
    "\n",
    "def llm_call_2(state: State):\n",
    "    \"\"\"Write a joke\"\"\"\n",
    "    result = llm.invoke(state[\"input\"])\n",
    "    return {\"output\": result.content}\n",
    "\n",
    "def llm_call_3(state: State):\n",
    "    \"\"\"Write a poem\"\"\"\n",
    "    result = llm.invoke(state[\"input\"])\n",
    "    return {\"output\": result.content}\n",
    "\n",
    "def llm_call_router(state: State):\n",
    "    \"\"\"Route the input to the appropriate node\"\"\"\n",
    "    \n",
    "    # Run the augmented LLM with structured output to serve as \n",
    "    # routing logic\n",
    "    decision = router.invoke(\n",
    "        [\n",
    "            SystemMessage(\n",
    "                content=\"Route the input to story, joke, or poem based on the input's request.\"\n",
    "            ),\n",
    "            HumanMessage(content=state[\"input\"]),\n",
    "        ]\n",
    "    )\n",
    "    return {\"decision\": decision.step}"
   ]
  },
  {
   "cell_type": "code",
   "execution_count": 30,
   "id": "cea4acc6",
   "metadata": {},
   "outputs": [],
   "source": [
    "def route_decision(state: State):\n",
    "    \"\"\"Route the decision to the appropriate node\"\"\"\n",
    "    if state[\"decision\"] == \"story\":\n",
    "        return \"llm_call_1\"\n",
    "    elif state[\"decision\"] == \"joke\":\n",
    "        return \"llm_call_2\"\n",
    "    elif state[\"decision\"] == \"poem\":\n",
    "        return \"llm_call_3\"\n",
    "    else:\n",
    "        raise ValueError(f\"Unknown decision: {state['decision']}\")"
   ]
  },
  {
   "cell_type": "code",
   "execution_count": 32,
   "id": "3608ddcb",
   "metadata": {},
   "outputs": [],
   "source": [
    "router_builder = StateGraph(State)\n",
    "\n",
    "router_builder.add_node(\"llm_call_1\", llm_call_1)\n",
    "router_builder.add_node(\"llm_call_2\", llm_call_2)\n",
    "router_builder.add_node(\"llm_call_3\", llm_call_3)\n",
    "\n",
    "router_builder.add_node(\"llm_call_router\", llm_call_router)\n",
    "\n",
    "router_builder.add_edge(START, \"llm_call_router\")\n",
    "router_builder.add_conditional_edges(\n",
    "    \"llm_call_router\",\n",
    "    route_decision,\n",
    "    {\n",
    "        \"llm_call_1\": \"llm_call_1\",\n",
    "        \"llm_call_2\": \"llm_call_2\",\n",
    "        \"llm_call_3\": \"llm_call_3\",\n",
    "    }\n",
    ")\n",
    "router_builder.add_edge(\"llm_call_1\", END)\n",
    "router_builder.add_edge(\"llm_call_2\", END)\n",
    "router_builder.add_edge(\"llm_call_3\", END)\n",
    "\n",
    "router_workflow = router_builder.compile()\n"
   ]
  },
  {
   "cell_type": "code",
   "execution_count": 33,
   "id": "76359d54",
   "metadata": {},
   "outputs": [
    {
     "data": {
      "image/png": "[encoded data removed]",
      "text/plain": [
       "<IPython.core.display.Image object>"
      ]
     },
     "metadata": {},
     "output_type": "display_data"
    }
   ],
   "source": [
    "display(Image(router_workflow.get_graph().draw_mermaid_png()))"
   ]
  },
  {
   "cell_type": "code",
   "execution_count": 35,
   "id": "50068a08",
   "metadata": {},
   "outputs": [
    {
     "name": "stdout",
     "output_type": "stream",
     "text": [
      "Why did the cat get kicked out of the library?\n",
      "\n",
      "Because it kept purr-loining all the books!\n"
     ]
    }
   ],
   "source": [
    "state = router_workflow.invoke({\"input\": \"Write joke about cats.\"})\n",
    "print(state[\"output\"])"
   ]
  },
  {
   "cell_type": "markdown",
   "id": "d8e5f086",
   "metadata": {},
   "source": [
    "## Orchestrator Worker"
   ]
  },
  {
   "cell_type": "code",
   "execution_count": 39,
   "id": "0f84f7da",
   "metadata": {},
   "outputs": [],
   "source": [
    "from typing import Annotated, List\n",
    "\n",
    "# Schema for structured output to use in planning\n",
    "class Section(BaseModel):\n",
    "    name: str = Field(\n",
    "        None, description=\"Name for this section of te report .\"\n",
    "    )\n",
    "    descriptor: str = Field(\n",
    "        None, description=\"Brief overview of the main topics and concepts to be covered in this section..\"\n",
    "    )\n",
    "\n",
    "class Sections(BaseModel):\n",
    "    sections: List[Section] = Field(\n",
    "        None, description=\"Sections of the report.\"\n",
    "    )\n",
    "\n",
    "# Augment the LLM with schema for structured output\n",
    "planner = llm.with_structured_output(Sections)"
   ]
  },
  {
   "cell_type": "markdown",
   "id": "16d9bd6d",
   "metadata": {},
   "source": [
    "## Creating Workers in LangGraph\n",
    "\n",
    "Because orchestrator-worker workflows are common, LangGraph has the Send API to support this. It lets you dynamically create worker nodes and send each one a specific input. Each worker has its own state, and all worker outputs are written to a shared state key that is accessible to the orchestrator graph. This gives the orchestrator access to all worker output and allows it to synthesize them into a final output. As you can see below, we iterate over a list of sections and Send each to a worker node."
   ]
  },
  {
   "cell_type": "code",
   "execution_count": 47,
   "id": "10982c61",
   "metadata": {},
   "outputs": [],
   "source": [
    "import operator\n",
    "\n",
    "# Graph state\n",
    "class State(TypedDict):\n",
    "    topic: str # Report topic\n",
    "    sections: list[Section] # List of report sections\n",
    "    completed_sections: Annotated[\n",
    "        list, operator.add\n",
    "    ] # All workers write to this key in parallel\n",
    "    final_report: str # Final report output\n",
    "\n",
    "# Worker state\n",
    "class WorkerState(TypedDict):\n",
    "    section: Section\n",
    "    completed_sections: Annotated[list, operator.add]\n",
    "\n",
    "def orchestrator(state: State):\n",
    "    \"\"\"Orchestrator that generates a plan for the report.\"\"\"\n",
    "    # Generate Queries\n",
    "    report_sections = planner.invoke(\n",
    "        [\n",
    "            SystemMessage(content=\"Generate a plan for the report.\"),\n",
    "            HumanMessage(content=f\"Here is the report topic: {state['topic']}.\")\n",
    "        ]\n",
    "    )\n",
    "\n",
    "    return {\"sections\": report_sections.sections}"
   ]
  },
  {
   "cell_type": "code",
   "execution_count": 44,
   "id": "c3998992",
   "metadata": {},
   "outputs": [],
   "source": [
    "def llm_call(state: WorkerState):\n",
    "    \"\"\"Worker writes a section of the report.\"\"\"\n",
    "    # Generate section\n",
    "    section = llm.invoke(\n",
    "        [\n",
    "            SystemMessage(\n",
    "                content=\"Write a report section following the provided name and description. Include no preamble for each section. Use markdown formatting.\"\n",
    "            ),\n",
    "            HumanMessage(\n",
    "                content=f\"Here is the section name: {state['section'].name} and description: {state['section'].descriptor}.\"\n",
    "            )\n",
    "        ]\n",
    "    )\n",
    "\n",
    "    # Write the updated section to completed sections\n",
    "    return {\"completed_sections\": [section.content]}"
   ]
  },
  {
   "cell_type": "code",
   "execution_count": 45,
   "id": "35571981",
   "metadata": {},
   "outputs": [],
   "source": [
    "def syntesizer(state: State):\n",
    "    \"\"\"Synthesize full report from sections.\"\"\"\n",
    "\n",
    "    # List of completed sections\n",
    "    completed_sections = state[\"completed_sections\"]\n",
    "\n",
    "    # Fortmat completed sections to str and use and use as context for the final sections\n",
    "    completed_report_sections = \"\\n\\n--\\n\\n\".join(completed_sections)\n",
    "\n",
    "    return {\"final_report\": completed_report_sections}\n",
    "    "
   ]
  },
  {
   "cell_type": "code",
   "execution_count": 52,
   "id": "546dcba9",
   "metadata": {},
   "outputs": [],
   "source": [
    "from langgraph.types import Send\n",
    "\n",
    "# Conditional edge function to create llm_call workers that each write a section of the report\n",
    "def assign_workers(state: State):\n",
    "    \"\"\"Assign a worker to each section in the plan\"\"\"\n",
    "    return [\n",
    "        Send(\n",
    "            \"llm_call\",\n",
    "            {\"section\": section},\n",
    "        )\n",
    "        for section in state[\"sections\"]\n",
    "    ]"
   ]
  },
  {
   "cell_type": "code",
   "execution_count": 54,
   "id": "8cceb0dc",
   "metadata": {},
   "outputs": [],
   "source": [
    "# Build the workflow\n",
    "orchestrator_worker_builder = StateGraph(State)\n",
    "\n",
    "# Add the nodes\n",
    "orchestrator_worker_builder.add_node(\"orchestrator\", orchestrator)\n",
    "orchestrator_worker_builder.add_node(\"llm_call\", llm_call)\n",
    "orchestrator_worker_builder.add_node(\"syntesizer\", syntesizer)\n",
    "\n",
    "# Add the edges\n",
    "orchestrator_worker_builder.add_edge(START, \"orchestrator\")\n",
    "orchestrator_worker_builder.add_conditional_edges(\n",
    "    \"orchestrator\",\n",
    "    assign_workers,\n",
    "    [\"llm_call\"]\n",
    ")\n",
    "orchestrator_worker_builder.add_edge(\"llm_call\", \"syntesizer\")\n",
    "orchestrator_worker_builder.add_edge(\"syntesizer\", END)\n",
    "\n",
    "# Compile the workflow\n",
    "orchestrator_worker = orchestrator_worker_builder.compile()\n"
   ]
  },
  {
   "cell_type": "code",
   "execution_count": 55,
   "id": "842860d4",
   "metadata": {},
   "outputs": [
    {
     "data": {
      "image/png": "[encoded data removed]",
      "text/plain": [
       "<IPython.core.display.Image object>"
      ]
     },
     "metadata": {},
     "output_type": "display_data"
    }
   ],
   "source": [
    "display(Image(orchestrator_worker.get_graph().draw_mermaid_png()))"
   ]
  },
  {
   "cell_type": "code",
   "execution_count": 56,
   "id": "d1640194",
   "metadata": {},
   "outputs": [],
   "source": [
    "# invoke\n",
    "\n",
    "state = orchestrator_worker.invoke({\"topic\": \"Create a report on LLM Scaling Laws\"})"
   ]
  },
  {
   "cell_type": "code",
   "execution_count": 57,
   "id": "4f534cd1",
   "metadata": {},
   "outputs": [
    {
     "data": {
      "text/markdown": [
       "## Introduction\n",
       "\n",
       "Large Language Models (LLMs) have demonstrated remarkable capabilities, a phenomenon significantly illuminated and guided by the discovery of \"Scaling Laws.\" These laws describe predictable relationships between model performance and key resources such as compute, data, and model size (number of parameters). Far from being mere empirical observations, scaling laws provide a foundational understanding of how LLMs learn and generalize, revealing that performance improvements are not solely dependent on architectural innovations but also, and often more profoundly, on the sheer scale of resources invested.\n",
       "\n",
       "The significance of LLM scaling laws cannot be overstated. They offer a roadmap for the efficient allocation of computational resources, enabling researchers and engineers to predict the performance gains achievable by increasing model size, training data, or training time. This predictability has been instrumental in the rapid advancement of the field, guiding the development of increasingly powerful models like GPT-3, PaLM, and LLaMA. Furthermore, they suggest that current LLM capabilities are not nearing fundamental limits but rather are a function of the scale at which they are trained, implying a clear path for future improvements through continued scaling.\n",
       "\n",
       "Foundational concepts underpinning these laws include the idea of \"power-law relationships,\" where one quantity varies as a power of another, leading to linear relationships on a log-log plot. Key resources considered are the number of model parameters ($N$), the size of the training dataset ($D$), and the total compute budget ($C$, often measured in FLOPs). Scaling laws typically express the test loss (or perplexity) as a function of these variables, demonstrating that as $N$, $D$, or $C$ increase, the loss decreases predictably, often following distinct power-law exponents for each resource. This framework allows for the optimization of training strategies, balancing these resources to achieve the best possible performance for a given budget."
      ],
      "text/plain": [
       "<IPython.core.display.Markdown object>"
      ]
     },
     "execution_count": 57,
     "metadata": {},
     "output_type": "execute_result"
    }
   ],
   "source": [
    "from IPython.display import Markdown\n",
    "Markdown(state[\"final_report\"])"
   ]
  }
 ],
 "metadata": {
  "kernelspec": {
   "display_name": ".venv",
   "language": "python",
   "name": "python3"
  },
  "language_info": {
   "codemirror_mode": {
    "name": "ipython",
    "version": 3
   },
   "file_extension": ".py",
   "mimetype": "text/x-python",
   "name": "python",
   "nbconvert_exporter": "python",
   "pygments_lexer": "ipython3",
   "version": "3.12.8"
  }
 },
 "nbformat": 4,
 "nbformat_minor": 5
}
